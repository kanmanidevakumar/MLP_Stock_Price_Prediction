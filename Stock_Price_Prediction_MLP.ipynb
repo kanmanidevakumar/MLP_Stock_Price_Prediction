{
  "nbformat": 4,
  "nbformat_minor": 0,
  "metadata": {
    "colab": {
      "provenance": [],
      "authorship_tag": "ABX9TyMTAZ/QOChrOkMkBSf6Plge",
      "include_colab_link": true
    },
    "kernelspec": {
      "name": "python3",
      "display_name": "Python 3"
    },
    "language_info": {
      "name": "python"
    }
  },
  "cells": [
    {
      "cell_type": "markdown",
      "metadata": {
        "id": "view-in-github",
        "colab_type": "text"
      },
      "source": [
        "<a href=\"https://colab.research.google.com/github/kanmanidevakumar/MLP_Stock_Price_Prediction/blob/main/Stock_Price_Prediction_MLP.ipynb\" target=\"_parent\"><img src=\"https://colab.research.google.com/assets/colab-badge.svg\" alt=\"Open In Colab\"/></a>"
      ]
    },
    {
      "cell_type": "code",
      "execution_count": null,
      "metadata": {
        "id": "p9J8DwNCcoHa"
      },
      "outputs": [],
      "source": [
        "#To install three specific libraries\n",
        "#1.tensorflow-ml framework for CNN architecture(Multi layer perceptron)\n",
        "#2.yfinance -to get historical data of the market\n",
        "#3.scikit-learn-data preprocessing,feature selection.\n",
        "!pip install tensorflow yfinance scikit-learn\n"
      ]
    },
    {
      "cell_type": "code",
      "source": [
        "import yfinance as yf #to fetch historical stock data\n",
        "import pandas as pd   #data manipulation and analysis(cleaning process of data)\n",
        "import numpy as np    #numerical operations\n",
        "from sklearn.preprocessing import MinMaxScaler  #to normalize the data\n",
        "from tensorflow.keras.models import Sequential  # linear stack of layers\n",
        "from tensorflow.keras.layers import Dense       #to create fully connected layers\n",
        "from sklearn.metrics import mean_squared_error  # model's performance\n"
      ],
      "metadata": {
        "id": "2px9cQEJc07P"
      },
      "execution_count": null,
      "outputs": []
    },
    {
      "cell_type": "code",
      "source": [
        "# Define the stock symbol and fetch data\n",
        "stock_symbol = 'AAPL'  # Apple Inc.\n",
        "data = yf.download(stock_symbol, start='2010-01-01', end='2024-08-31')\n",
        "\n",
        "# Display the first few rows of the data\n",
        "print(data.head())\n"
      ],
      "metadata": {
        "id": "SyKO0XkHc8J6"
      },
      "execution_count": null,
      "outputs": []
    },
    {
      "cell_type": "code",
      "source": [
        "# Use 'Open', 'High', 'Low', 'Volume', and 'Close' as features\n",
        "features = data[['Open', 'High', 'Low', 'Volume', 'Close']]\n"
      ],
      "metadata": {
        "id": "-8ax1dfodHXh"
      },
      "execution_count": null,
      "outputs": []
    },
    {
      "cell_type": "code",
      "source": [
        "# Apply Min-Max Scaling to normalize the data\n",
        "scaler = MinMaxScaler()\n",
        "scaled_data = scaler.fit_transform(features) #scaling the features(all value are closer to one another)\n",
        "\n",
        "# Convert the scaled data back to a DataFrame\n",
        "scaled_data = pd.DataFrame(scaled_data, columns=features.columns)\n"
      ],
      "metadata": {
        "id": "co6PhZlddMY_"
      },
      "execution_count": null,
      "outputs": []
    },
    {
      "cell_type": "code",
      "source": [
        "# Define the size of the training set\n",
        "training_size = int(len(scaled_data) * 0.8) #training size of data eg.800out of 1000\n",
        "train_data = scaled_data[:training_size] #extract the data from training\n",
        "test_data = scaled_data[training_size:]  #remaining 200 for testing\n",
        "\n",
        "# Prepare training and testing datasets\n",
        "X_train = train_data.drop('Close', axis=1) #define the input data used in training\n",
        "y_train = train_data['Close']              #define the output data used in training\n",
        "X_test = test_data.drop('Close', axis=1)   #define the input data used in testing\n",
        "y_test = test_data['Close']                #define the output data used in testing\n"
      ],
      "metadata": {
        "id": "tgSxwgyAdTxW"
      },
      "execution_count": null,
      "outputs": []
    },
    {
      "cell_type": "code",
      "source": [
        "model = Sequential()\n",
        "\n",
        "# Input layer with 4 neurons (as there are 4 features: Open, High, Low, Volume)\n",
        "model.add(Dense(128, input_dim=4, activation='relu')) #Adds the input layer with 128 neurons.\n",
        "\n",
        "# Hidden layers\n",
        "model.add(Dense(64, activation='relu'))  #Adds the first hidden layer with 64 neurons\n",
        "model.add(Dense(32, activation='relu'))  #Adds the first hidden layer with 32 neurons\n",
        "\n",
        "# Output layer with 1 neuron (predicting the 'Close' price)\n",
        "model.add(Dense(1))\n"
      ],
      "metadata": {
        "id": "bI5CbPRFdXfS"
      },
      "execution_count": null,
      "outputs": []
    },
    {
      "cell_type": "code",
      "source": [
        "#The optimizer updates the model's weights based on calculated gradients to minimize the loss function\n",
        "#The loss function measures how well the model's predictions match the actual target values.\n",
        "model.compile(optimizer='adam', loss='mean_squared_error')\n"
      ],
      "metadata": {
        "id": "QzDxRGG1dbOn"
      },
      "execution_count": null,
      "outputs": []
    },
    {
      "cell_type": "code",
      "source": [
        "# Fit the model on the training data\n",
        "#epochs-The number of times the model will go through the entire training dataset.(practices)\n",
        "#batch-size:he number of samples processed before the model's weights are updated(split the data)\n",
        "#Controls the verbosity of the training output.(like coach)\n",
        "model.fit(X_train, y_train, epochs=50, batch_size=32, verbose=1)\n"
      ],
      "metadata": {
        "id": "cmbuvqKzdfTv"
      },
      "execution_count": null,
      "outputs": []
    },
    {
      "cell_type": "code",
      "source": [
        "# Predict the 'Close' prices on the test data\n",
        "predictions = model.predict(X_test)\n",
        "\n",
        "# Calculate Mean Squared Error (MSE)(model performance how the predicted value is related to actual value)\n",
        "mse = mean_squared_error(y_test, predictions)\n",
        "print(f'Mean Squared Error: {mse}')\n"
      ],
      "metadata": {
        "id": "Xj-UYGS7djk1"
      },
      "execution_count": null,
      "outputs": []
    },
    {
      "cell_type": "code",
      "source": [
        "import numpy as np\n",
        "import matplotlib.pyplot as plt\n",
        "\n",
        "# Predict the price for the next day based on the last available data point\n",
        "#drop-Remove the 'Close' column to only have the feature columns\n",
        "#iloc-Select the last row, which represents the most recent data point\n",
        "#Convert the data to a format suitable for prediction (2D array)\n",
        "last_data = scaled_data.drop('Close', axis=1).iloc[-1].values.reshape(1, -1)\n",
        "next_day_prediction = model.predict(last_data)\n",
        "# Converts the normalized prediction back to the original scale.\n",
        "next_day_prediction = scaler.inverse_transform([[0, 0, 0, 0, next_day_prediction[0][0]]])[0][-1]\n",
        "print(f'Predicted Stock Price for Next Day: {next_day_prediction}')\n",
        "\n",
        "# Append the predicted price to the historical data\n",
        "historical_prices = data['Close'].values\n",
        "predicted_prices = np.append(historical_prices, next_day_prediction)\n",
        "\n",
        "# Plot historical prices\n",
        "plt.figure(figsize=(12, 6))#Creates a new figure with a specified size\n",
        "plt.plot(historical_prices, label='Historical Prices', color='blue')#Plots historical prices in blue.\n",
        "\n",
        "# Plot predicted price for the next day\n",
        "plt.scatter(len(historical_prices), next_day_prediction, color='red', label='Predicted Price for Next Day')\n",
        "\n",
        "# Adding title and labels\n",
        "plt.title(f'{stock_symbol} Stock Price Prediction')\n",
        "plt.xlabel('Time')\n",
        "plt.ylabel('Stock Price')\n",
        "plt.legend()\n",
        "\n",
        "# Display the plot\n",
        "plt.show()\n"
      ],
      "metadata": {
        "id": "Wmx3LG5neEQP"
      },
      "execution_count": null,
      "outputs": []
    }
  ]
}